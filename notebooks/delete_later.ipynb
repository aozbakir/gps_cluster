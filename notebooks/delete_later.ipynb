{
 "cells": [
  {
   "cell_type": "code",
   "execution_count": null,
   "id": "9668309a-8eb7-4db8-9a29-4f6b33ea037a",
   "metadata": {},
   "outputs": [],
   "source": [
    "#qfaults=gpd.read_file('../data/external/Qfaults_GIS/SHP/Qfaults_US_Database.shp')\n",
    "#cfaults=qfaults[qfaults.Location == 'California']"
   ]
  },
  {
   "cell_type": "code",
   "execution_count": null,
   "id": "760de499-eee2-4179-a042-4b14ca809de9",
   "metadata": {},
   "outputs": [],
   "source": [
    "#df=pd.read_html('https://earthquake.usgs.gov/monitoring/gps/SFBayArea/velocities', header=0)[0]"
   ]
  },
  {
   "cell_type": "code",
   "execution_count": null,
   "id": "73716034-d1e0-40cd-9307-3effef93951f",
   "metadata": {},
   "outputs": [],
   "source": [
    "length=len(df_.index)\n",
    "#Reduced Chi-squared\n",
    "((((df_['Vn']-df_['Vn'].mean()) **2) / (df_['Sn']**2)).sum() + (((df_['Ve']-df_['Ve'].mean()) **2) / (df_['Se']**2)).sum() )/length/2"
   ]
  }
 ],
 "metadata": {
  "kernelspec": {
   "display_name": "Python 3 (ipykernel)",
   "language": "python",
   "name": "python3"
  },
  "language_info": {
   "codemirror_mode": {
    "name": "ipython",
    "version": 3
   },
   "file_extension": ".py",
   "mimetype": "text/x-python",
   "name": "python",
   "nbconvert_exporter": "python",
   "pygments_lexer": "ipython3",
   "version": "3.9.7"
  }
 },
 "nbformat": 4,
 "nbformat_minor": 5
}
